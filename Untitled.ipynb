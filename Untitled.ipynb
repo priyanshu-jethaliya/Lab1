{
 "cells": [
  {
   "cell_type": "code",
   "execution_count": 13,
   "id": "187ebdc4",
   "metadata": {},
   "outputs": [
    {
     "name": "stdout",
     "output_type": "stream",
     "text": [
      "enter num3\n",
      "['Mon' 'Tue' 'Wed' 'Thur' 'Fri' 'Sat' 'Sun']\n"
     ]
    }
   ],
   "source": [
    "import numpy as np\n",
    "day = \"Mon\"\n",
    "k = input(\"enter num\")\n",
    "s = np.array([\"Mon\", \"Tue\", \"Wed\", \"Thur\", \"Fri\", \"Sat\", \"Sun\"])\n",
    "print(s)\n"
   ]
  },
  {
   "cell_type": "code",
   "execution_count": 14,
   "id": "09a82d5f",
   "metadata": {},
   "outputs": [],
   "source": [
    "# you can write to stdout for debugging purposes, e.g.\n",
    "# print(\"this is a debug message\")\n",
    "\n",
    "def solution(S, K):\n",
    "    days_of_week = [\"Mon\", \"Tue\", \"Wed\", \"Thu\", \"Fri\", \"Sat\", \"Sun\"]\n",
    "    current_day_index = days_of_week.index(S)\n",
    "\n",
    "    future_day_index = (current_day_index + K) % 7\n",
    "\n",
    "    return days_of_week[future_day_index]"
   ]
  },
  {
   "cell_type": "code",
   "execution_count": null,
   "id": "ae20271c",
   "metadata": {},
   "outputs": [],
   "source": []
  }
 ],
 "metadata": {
  "kernelspec": {
   "display_name": "Python 3 (ipykernel)",
   "language": "python",
   "name": "python3"
  },
  "language_info": {
   "codemirror_mode": {
    "name": "ipython",
    "version": 3
   },
   "file_extension": ".py",
   "mimetype": "text/x-python",
   "name": "python",
   "nbconvert_exporter": "python",
   "pygments_lexer": "ipython3",
   "version": "3.11.0"
  }
 },
 "nbformat": 4,
 "nbformat_minor": 5
}

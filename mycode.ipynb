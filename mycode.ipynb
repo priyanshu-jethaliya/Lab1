{
 "cells": [
  {
   "cell_type": "code",
   "execution_count": 1,
   "id": "c0abc99f",
   "metadata": {},
   "outputs": [
    {
     "name": "stdout",
     "output_type": "stream",
     "text": [
      "John\n",
      "25\n",
      "New York\n",
      "None\n",
      "Key updated successfully.\n",
      "26\n",
      "Key deleted successfully.\n",
      "None\n"
     ]
    }
   ],
   "source": [
    "database = {}\n",
    "\n",
    "def add_key(key, value):\n",
    "    \"\"\"\n",
    "    Add a key-value pair to the database.\n",
    "    \"\"\"\n",
    "    database[key] = value\n",
    "\n",
    "def get_key(key):\n",
    "    \"\"\"\n",
    "    Retrieve the value associated with a given key from the database.\n",
    "    \"\"\"\n",
    "    if key in database:\n",
    "        return database[key]\n",
    "    else:\n",
    "        return None\n",
    "\n",
    "def update_key(key, new_value):\n",
    "    \"\"\"\n",
    "    Update the value associated with a given key in the database.\n",
    "    \"\"\"\n",
    "    if key in database:\n",
    "        database[key] = new_value\n",
    "        print(\"Key updated successfully.\")\n",
    "    else:\n",
    "        print(\"Key not found.\")\n",
    "\n",
    "def delete_key(key):\n",
    "    \"\"\"\n",
    "    Delete a key-value pair from the database.\n",
    "    \"\"\"\n",
    "    if key in database:\n",
    "        del database[key]\n",
    "        print(\"Key deleted successfully.\")\n",
    "    else:\n",
    "        print(\"Key not found.\")\n",
    "\n",
    "# Example usage\n",
    "add_key(\"name\", \"John\")\n",
    "add_key(\"age\", 25)\n",
    "add_key(\"city\", \"New York\")\n",
    "\n",
    "print(get_key(\"name\"))  # Output: John\n",
    "print(get_key(\"age\"))   # Output: 25\n",
    "print(get_key(\"city\"))  # Output: New York\n",
    "print(get_key(\"job\"))   # Output: None (Key not found)\n",
    "\n",
    "update_key(\"age\", 26)   # Key updated successfully.\n",
    "print(get_key(\"age\"))   # Output: 26\n",
    "\n",
    "delete_key(\"city\")      # Key deleted successfully.\n",
    "print(get_key(\"city\"))  # Output: None (Key not found)\n"
   ]
  },
  {
   "cell_type": "code",
   "execution_count": null,
   "id": "dd50b1c0",
   "metadata": {},
   "outputs": [],
   "source": []
  }
 ],
 "metadata": {
  "kernelspec": {
   "display_name": "Python 3 (ipykernel)",
   "language": "python",
   "name": "python3"
  },
  "language_info": {
   "codemirror_mode": {
    "name": "ipython",
    "version": 3
   },
   "file_extension": ".py",
   "mimetype": "text/x-python",
   "name": "python",
   "nbconvert_exporter": "python",
   "pygments_lexer": "ipython3",
   "version": "3.11.0"
  }
 },
 "nbformat": 4,
 "nbformat_minor": 5
}
